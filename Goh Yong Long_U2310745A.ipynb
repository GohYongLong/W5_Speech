{
 "cells": [
  {
   "cell_type": "markdown",
   "id": "b1683a19-e423-42fd-85e5-c423e86caf20",
   "metadata": {},
   "source": [
    "### Speech to Text (STT) (MicroPhone) – Not in Colab – best to have microphone"
   ]
  },
  {
   "cell_type": "raw",
   "id": "d6affba8-9586-4947-bc34-f663d2231a66",
   "metadata": {},
   "source": [
    "Sometimes you may need \n",
    "\n",
    "!pip install pipwin\n",
    "!pipwin install pyaudio\n",
    "!pip install SpeechRecognition\n",
    "!pip install PyAudio"
   ]
  },
  {
   "cell_type": "raw",
   "id": "2045e88c-b866-4de3-9e7d-bbf121f10604",
   "metadata": {},
   "source": [
    "For Debian/Ubuntu-based systems:\n",
    "Install PortAudio library and development headers:\n",
    "\n",
    "sh\n",
    "Copy code\n",
    "sudo apt-get update\n",
    "sudo apt-get install portaudio19-dev\n",
    "Install PyAudio:\n",
    "\n",
    "sh\n",
    "Copy code\n",
    "pip install pyaudio\n",
    "For Fedora-based systems:\n",
    "Install PortAudio library and development headers:\n",
    "\n",
    "sh\n",
    "Copy code\n",
    "sudo dnf install portaudio-devel\n",
    "Install PyAudio:\n",
    "\n",
    "sh\n",
    "Copy code\n",
    "pip install pyaudio\n",
    "For macOS:\n",
    "Install PortAudio using Homebrew:\n",
    "\n",
    "sh\n",
    "Copy code\n",
    "brew install portaudio\n",
    "Install PyAudio:\n",
    "\n",
    "sh\n",
    "Copy code\n",
    "pip install pyaudio\n",
    "For Windows:\n",
    "Download and install PortAudio from the official site.\n",
    "\n",
    "Install PyAudio using precompiled binaries (simpler approach):\n",
    "Download the appropriate wheel file for your Python version from PyAudio's unofficial binaries and install it using pip. For example:\n",
    "\n",
    "sh\n",
    "Copy code\n",
    "pip install PyAudio-0.2.11-cp39-cp39-win_amd64.whl\n",
    "After installing the required dependencies, you should be able to successfully build and install PyAudio."
   ]
  },
  {
   "cell_type": "raw",
   "id": "2e4836bb-09b9-4aa2-b63b-06b257c02d42",
   "metadata": {},
   "source": [
    "import speech_recognition as sr\n",
    "\n",
    "print(\"Accessing Microphone..\")\n",
    "\n",
    "with sr.Microphone() as source:   \n",
    "    sr.Recognizer().adjust_for_ambient_noise(source, duration=2)          \n",
    "    print(\"Waiting for you to speak...\")\n",
    "    audio = sr.Recognizer().listen(source,timeout=3)                   \n",
    "try:\n",
    "    print(\"You said \" + sr.Recognizer().recognize_google(audio))    \n",
    "except:\n",
    "    print(\"Please retry...\")"
   ]
  },
  {
   "cell_type": "markdown",
   "id": "ad1f2b78-64d2-4c82-9e8b-0336088cc474",
   "metadata": {},
   "source": [
    "---\n",
    "\n",
    "### [FYI] I am a divider. Below are codes."
   ]
  },
  {
   "cell_type": "code",
   "execution_count": 1,
   "id": "ee785b8c-6ed3-4ceb-b6b3-14b9d904e5b0",
   "metadata": {},
   "outputs": [
    {
     "name": "stdout",
     "output_type": "stream",
     "text": [
      "Collecting SpeechRecognition\n",
      "  Obtaining dependency information for SpeechRecognition from https://files.pythonhosted.org/packages/09/47/5dcfcd8a2c8c2981986fc196e98fc57bc1ecb5233b2d54dac0c0d448b019/SpeechRecognition-3.14.1-py3-none-any.whl.metadata\n",
      "  Downloading SpeechRecognition-3.14.1-py3-none-any.whl.metadata (31 kB)\n",
      "Requirement already satisfied: typing-extensions in c:\\users\\gyong\\anaconda3\\lib\\site-packages (from SpeechRecognition) (4.7.1)\n",
      "Downloading SpeechRecognition-3.14.1-py3-none-any.whl (32.9 MB)\n",
      "   ---------------------------------------- 0.0/32.9 MB ? eta -:--:--\n",
      "    --------------------------------------- 0.7/32.9 MB 13.9 MB/s eta 0:00:03\n",
      "   - -------------------------------------- 1.1/32.9 MB 12.2 MB/s eta 0:00:03\n",
      "   - -------------------------------------- 1.6/32.9 MB 11.3 MB/s eta 0:00:03\n",
      "   -- ------------------------------------- 2.0/32.9 MB 10.9 MB/s eta 0:00:03\n",
      "   -- ------------------------------------- 2.4/32.9 MB 10.3 MB/s eta 0:00:03\n",
      "   --- ------------------------------------ 2.9/32.9 MB 10.2 MB/s eta 0:00:03\n",
      "   ---- ----------------------------------- 3.4/32.9 MB 10.3 MB/s eta 0:00:03\n",
      "   ---- ----------------------------------- 3.8/32.9 MB 10.1 MB/s eta 0:00:03\n",
      "   ----- ---------------------------------- 4.3/32.9 MB 10.1 MB/s eta 0:00:03\n",
      "   ----- ---------------------------------- 4.7/32.9 MB 10.1 MB/s eta 0:00:03\n",
      "   ------ --------------------------------- 5.2/32.9 MB 10.3 MB/s eta 0:00:03\n",
      "   ------ --------------------------------- 5.5/32.9 MB 10.0 MB/s eta 0:00:03\n",
      "   ------- -------------------------------- 6.0/32.9 MB 9.8 MB/s eta 0:00:03\n",
      "   ------- -------------------------------- 6.3/32.9 MB 9.9 MB/s eta 0:00:03\n",
      "   -------- ------------------------------- 6.8/32.9 MB 9.8 MB/s eta 0:00:03\n",
      "   -------- ------------------------------- 7.4/32.9 MB 10.0 MB/s eta 0:00:03\n",
      "   --------- ------------------------------ 7.8/32.9 MB 9.9 MB/s eta 0:00:03\n",
      "   --------- ------------------------------ 8.2/32.9 MB 9.9 MB/s eta 0:00:03\n",
      "   ---------- ----------------------------- 8.6/32.9 MB 9.8 MB/s eta 0:00:03\n",
      "   ----------- ---------------------------- 9.1/32.9 MB 9.8 MB/s eta 0:00:03\n",
      "   ----------- ---------------------------- 9.5/32.9 MB 9.8 MB/s eta 0:00:03\n",
      "   ------------ --------------------------- 9.9/32.9 MB 9.7 MB/s eta 0:00:03\n",
      "   ------------ --------------------------- 10.4/32.9 MB 9.6 MB/s eta 0:00:03\n",
      "   ------------- -------------------------- 10.8/32.9 MB 9.6 MB/s eta 0:00:03\n",
      "   ------------- -------------------------- 11.2/32.9 MB 9.5 MB/s eta 0:00:03\n",
      "   -------------- ------------------------- 11.5/32.9 MB 9.5 MB/s eta 0:00:03\n",
      "   -------------- ------------------------- 11.9/32.9 MB 9.4 MB/s eta 0:00:03\n",
      "   -------------- ------------------------- 12.3/32.9 MB 9.4 MB/s eta 0:00:03\n",
      "   --------------- ------------------------ 12.8/32.9 MB 9.5 MB/s eta 0:00:03\n",
      "   ---------------- ----------------------- 13.4/32.9 MB 9.6 MB/s eta 0:00:03\n",
      "   ---------------- ----------------------- 13.9/32.9 MB 9.6 MB/s eta 0:00:02\n",
      "   ----------------- ---------------------- 14.3/32.9 MB 9.5 MB/s eta 0:00:02\n",
      "   ----------------- ---------------------- 14.6/32.9 MB 9.4 MB/s eta 0:00:02\n",
      "   ------------------ --------------------- 15.0/32.9 MB 9.4 MB/s eta 0:00:02\n",
      "   ------------------ --------------------- 15.5/32.9 MB 9.4 MB/s eta 0:00:02\n",
      "   ------------------- -------------------- 16.0/32.9 MB 9.6 MB/s eta 0:00:02\n",
      "   -------------------- ------------------- 16.5/32.9 MB 9.6 MB/s eta 0:00:02\n",
      "   -------------------- ------------------- 16.9/32.9 MB 9.5 MB/s eta 0:00:02\n",
      "   --------------------- ------------------ 17.4/32.9 MB 9.5 MB/s eta 0:00:02\n",
      "   --------------------- ------------------ 17.8/32.9 MB 9.5 MB/s eta 0:00:02\n",
      "   ---------------------- ----------------- 18.3/32.9 MB 9.6 MB/s eta 0:00:02\n",
      "   ---------------------- ----------------- 18.6/32.9 MB 9.5 MB/s eta 0:00:02\n",
      "   ----------------------- ---------------- 19.1/32.9 MB 9.6 MB/s eta 0:00:02\n",
      "   ----------------------- ---------------- 19.5/32.9 MB 9.5 MB/s eta 0:00:02\n",
      "   ------------------------ --------------- 19.8/32.9 MB 9.4 MB/s eta 0:00:02\n",
      "   ------------------------ --------------- 20.2/32.9 MB 9.4 MB/s eta 0:00:02\n",
      "   ------------------------ --------------- 20.4/32.9 MB 9.4 MB/s eta 0:00:02\n",
      "   ------------------------- -------------- 20.9/32.9 MB 9.2 MB/s eta 0:00:02\n",
      "   -------------------------- ------------- 21.4/32.9 MB 9.2 MB/s eta 0:00:02\n",
      "   -------------------------- ------------- 21.7/32.9 MB 9.2 MB/s eta 0:00:02\n",
      "   --------------------------- ------------ 22.4/32.9 MB 9.5 MB/s eta 0:00:02\n",
      "   --------------------------- ------------ 22.9/32.9 MB 9.5 MB/s eta 0:00:02\n",
      "   ---------------------------- ----------- 23.5/32.9 MB 9.5 MB/s eta 0:00:01\n",
      "   ----------------------------- ---------- 23.9/32.9 MB 9.4 MB/s eta 0:00:01\n",
      "   ----------------------------- ---------- 24.3/32.9 MB 9.5 MB/s eta 0:00:01\n",
      "   ------------------------------ --------- 24.7/32.9 MB 9.4 MB/s eta 0:00:01\n",
      "   ------------------------------ --------- 25.1/32.9 MB 9.6 MB/s eta 0:00:01\n",
      "   ------------------------------- -------- 25.5/32.9 MB 9.5 MB/s eta 0:00:01\n",
      "   ------------------------------- -------- 26.0/32.9 MB 9.5 MB/s eta 0:00:01\n",
      "   -------------------------------- ------- 26.5/32.9 MB 9.5 MB/s eta 0:00:01\n",
      "   -------------------------------- ------- 26.9/32.9 MB 9.5 MB/s eta 0:00:01\n",
      "   --------------------------------- ------ 27.4/32.9 MB 9.6 MB/s eta 0:00:01\n",
      "   --------------------------------- ------ 27.7/32.9 MB 9.4 MB/s eta 0:00:01\n",
      "   ---------------------------------- ----- 28.1/32.9 MB 9.4 MB/s eta 0:00:01\n",
      "   ---------------------------------- ----- 28.5/32.9 MB 9.2 MB/s eta 0:00:01\n",
      "   ----------------------------------- ---- 29.0/32.9 MB 9.4 MB/s eta 0:00:01\n",
      "   ----------------------------------- ---- 29.3/32.9 MB 9.4 MB/s eta 0:00:01\n",
      "   ------------------------------------ --- 29.7/32.9 MB 9.2 MB/s eta 0:00:01\n",
      "   ------------------------------------ --- 30.0/32.9 MB 9.4 MB/s eta 0:00:01\n",
      "   ------------------------------------- -- 30.5/32.9 MB 9.4 MB/s eta 0:00:01\n",
      "   ------------------------------------- -- 30.7/32.9 MB 9.1 MB/s eta 0:00:01\n",
      "   ------------------------------------- -- 31.2/32.9 MB 9.4 MB/s eta 0:00:01\n",
      "   -------------------------------------- - 31.6/32.9 MB 9.2 MB/s eta 0:00:01\n",
      "   ---------------------------------------  32.2/32.9 MB 9.4 MB/s eta 0:00:01\n",
      "   ---------------------------------------  32.8/32.9 MB 9.4 MB/s eta 0:00:01\n",
      "   ---------------------------------------  32.8/32.9 MB 9.4 MB/s eta 0:00:01\n",
      "   ---------------------------------------  32.8/32.9 MB 9.4 MB/s eta 0:00:01\n",
      "   ---------------------------------------- 32.9/32.9 MB 8.3 MB/s eta 0:00:00\n",
      "Installing collected packages: SpeechRecognition\n",
      "Successfully installed SpeechRecognition-3.14.1\n"
     ]
    }
   ],
   "source": [
    "!pip install SpeechRecognition"
   ]
  },
  {
   "cell_type": "code",
   "execution_count": 2,
   "id": "7783e157-7c0f-4161-a38c-885aecc5ccd0",
   "metadata": {
    "scrolled": true
   },
   "outputs": [
    {
     "name": "stdout",
     "output_type": "stream",
     "text": [
      "Collecting PyAudio\n",
      "  Obtaining dependency information for PyAudio from https://files.pythonhosted.org/packages/82/d8/f043c854aad450a76e476b0cf9cda1956419e1dacf1062eb9df3c0055abe/PyAudio-0.2.14-cp311-cp311-win_amd64.whl.metadata\n",
      "  Downloading PyAudio-0.2.14-cp311-cp311-win_amd64.whl.metadata (2.7 kB)\n",
      "Downloading PyAudio-0.2.14-cp311-cp311-win_amd64.whl (164 kB)\n",
      "   ---------------------------------------- 0.0/164.1 kB ? eta -:--:--\n",
      "   ---------------------------------------- 164.1/164.1 kB ? eta 0:00:00\n",
      "Installing collected packages: PyAudio\n",
      "Successfully installed PyAudio-0.2.14\n"
     ]
    }
   ],
   "source": [
    "!pip install PyAudio  "
   ]
  },
  {
   "cell_type": "code",
   "execution_count": 3,
   "id": "7ee0091d-2a18-44d0-8e94-cc01de6898db",
   "metadata": {},
   "outputs": [
    {
     "name": "stdout",
     "output_type": "stream",
     "text": [
      "Accessing Microphone..\n",
      "Waiting for you to speak...\n"
     ]
    },
    {
     "ename": "WaitTimeoutError",
     "evalue": "listening timed out while waiting for phrase to start",
     "output_type": "error",
     "traceback": [
      "\u001b[1;31m---------------------------------------------------------------------------\u001b[0m",
      "\u001b[1;31mWaitTimeoutError\u001b[0m                          Traceback (most recent call last)",
      "Cell \u001b[1;32mIn[3], line 8\u001b[0m\n\u001b[0;32m      6\u001b[0m     sr\u001b[38;5;241m.\u001b[39mRecognizer()\u001b[38;5;241m.\u001b[39madjust_for_ambient_noise(source, duration\u001b[38;5;241m=\u001b[39m\u001b[38;5;241m2\u001b[39m)          \n\u001b[0;32m      7\u001b[0m     \u001b[38;5;28mprint\u001b[39m(\u001b[38;5;124m\"\u001b[39m\u001b[38;5;124mWaiting for you to speak...\u001b[39m\u001b[38;5;124m\"\u001b[39m)\n\u001b[1;32m----> 8\u001b[0m     audio \u001b[38;5;241m=\u001b[39m sr\u001b[38;5;241m.\u001b[39mRecognizer()\u001b[38;5;241m.\u001b[39mlisten(source,timeout\u001b[38;5;241m=\u001b[39m\u001b[38;5;241m3\u001b[39m)                   \n\u001b[0;32m      9\u001b[0m \u001b[38;5;28;01mtry\u001b[39;00m:\n\u001b[0;32m     10\u001b[0m     \u001b[38;5;28mprint\u001b[39m(\u001b[38;5;124m\"\u001b[39m\u001b[38;5;124mYou said \u001b[39m\u001b[38;5;124m\"\u001b[39m \u001b[38;5;241m+\u001b[39m sr\u001b[38;5;241m.\u001b[39mRecognizer()\u001b[38;5;241m.\u001b[39mrecognize_google(audio))    \n",
      "File \u001b[1;32m~\\anaconda3\\Lib\\site-packages\\speech_recognition\\__init__.py:460\u001b[0m, in \u001b[0;36mRecognizer.listen\u001b[1;34m(self, source, timeout, phrase_time_limit, snowboy_configuration, stream)\u001b[0m\n\u001b[0;32m    458\u001b[0m result \u001b[38;5;241m=\u001b[39m \u001b[38;5;28mself\u001b[39m\u001b[38;5;241m.\u001b[39m_listen(source, timeout, phrase_time_limit, snowboy_configuration, stream)\n\u001b[0;32m    459\u001b[0m \u001b[38;5;28;01mif\u001b[39;00m \u001b[38;5;129;01mnot\u001b[39;00m stream:\n\u001b[1;32m--> 460\u001b[0m     \u001b[38;5;28;01mfor\u001b[39;00m a \u001b[38;5;129;01min\u001b[39;00m result:\n\u001b[0;32m    461\u001b[0m         \u001b[38;5;28;01mreturn\u001b[39;00m a\n\u001b[0;32m    462\u001b[0m \u001b[38;5;28;01mreturn\u001b[39;00m result\n",
      "File \u001b[1;32m~\\anaconda3\\Lib\\site-packages\\speech_recognition\\__init__.py:490\u001b[0m, in \u001b[0;36mRecognizer._listen\u001b[1;34m(self, source, timeout, phrase_time_limit, snowboy_configuration, stream)\u001b[0m\n\u001b[0;32m    488\u001b[0m elapsed_time \u001b[38;5;241m+\u001b[39m\u001b[38;5;241m=\u001b[39m seconds_per_buffer\n\u001b[0;32m    489\u001b[0m \u001b[38;5;28;01mif\u001b[39;00m timeout \u001b[38;5;129;01mand\u001b[39;00m elapsed_time \u001b[38;5;241m>\u001b[39m timeout:\n\u001b[1;32m--> 490\u001b[0m     \u001b[38;5;28;01mraise\u001b[39;00m WaitTimeoutError(\u001b[38;5;124m\"\u001b[39m\u001b[38;5;124mlistening timed out while waiting for phrase to start\u001b[39m\u001b[38;5;124m\"\u001b[39m)\n\u001b[0;32m    492\u001b[0m buffer \u001b[38;5;241m=\u001b[39m source\u001b[38;5;241m.\u001b[39mstream\u001b[38;5;241m.\u001b[39mread(source\u001b[38;5;241m.\u001b[39mCHUNK)\n\u001b[0;32m    493\u001b[0m \u001b[38;5;28;01mif\u001b[39;00m \u001b[38;5;28mlen\u001b[39m(buffer) \u001b[38;5;241m==\u001b[39m \u001b[38;5;241m0\u001b[39m: \u001b[38;5;28;01mbreak\u001b[39;00m  \u001b[38;5;66;03m# reached end of the stream\u001b[39;00m\n",
      "\u001b[1;31mWaitTimeoutError\u001b[0m: listening timed out while waiting for phrase to start"
     ]
    }
   ],
   "source": [
    "import speech_recognition as sr\n",
    "\n",
    "print(\"Accessing Microphone..\")\n",
    "\n",
    "with sr.Microphone() as source:   \n",
    "    sr.Recognizer().adjust_for_ambient_noise(source, duration=2)          \n",
    "    print(\"Waiting for you to speak...\")\n",
    "    audio = sr.Recognizer().listen(source,timeout=3)                   \n",
    "try:\n",
    "    print(\"You said \" + sr.Recognizer().recognize_google(audio))    \n",
    "except:\n",
    "    print(\"Please retry...\")"
   ]
  },
  {
   "cell_type": "markdown",
   "id": "8fd1281f-a1d6-4c45-befc-e42b9f466c5f",
   "metadata": {},
   "source": [
    "---\n",
    "\n",
    "### Text to speech (TTS)"
   ]
  },
  {
   "cell_type": "raw",
   "id": "c22b4c7f-47e5-43c7-93b3-4757ca00cc37",
   "metadata": {},
   "source": [
    "he error you're encountering indicates that the libespeak.so.1 library, which is required by a dependency in your Python environment, is missing. This library is part of the eSpeak speech synthesizer software.\n",
    "\n",
    "To resolve this, you need to install the eSpeak package. Here are the steps to install it on different operating systems:\n",
    "\n",
    "For Debian/Ubuntu-based systems:\n",
    "Install eSpeak:\n",
    "sh\n",
    "Copy code\n",
    "sudo apt-get update\n",
    "sudo apt-get install espeak libespeak1\n",
    "For Fedora-based systems:\n",
    "Install eSpeak:\n",
    "sh\n",
    "Copy code\n",
    "sudo dnf install espeak espeak-devel\n",
    "For macOS:\n",
    "Install eSpeak using Homebrew:\n",
    "sh\n",
    "Copy code\n",
    "brew install espeak\n",
    "For Windows:\n",
    "Download and install eSpeak:\n",
    "Download the eSpeak installer from the official website and follow the installation instructions."
   ]
  },
  {
   "cell_type": "code",
   "execution_count": 5,
   "id": "7ea776db-f0b2-4cae-8654-bf85b4c6444c",
   "metadata": {},
   "outputs": [
    {
     "name": "stdout",
     "output_type": "stream",
     "text": [
      "Collecting pyttsx3\n",
      "  Obtaining dependency information for pyttsx3 from https://files.pythonhosted.org/packages/94/df/e1584757c736c4fba09a3fb4f22fe625cc3367b06c6ece221e4b8c1e3023/pyttsx3-2.98-py3-none-any.whl.metadata\n",
      "  Downloading pyttsx3-2.98-py3-none-any.whl.metadata (3.8 kB)\n",
      "Collecting comtypes (from pyttsx3)\n",
      "  Obtaining dependency information for comtypes from https://files.pythonhosted.org/packages/4c/44/72009bb0a0d8286f6408c9cb70552350e21e9c280bfa1ef30784b30dfc0f/comtypes-1.4.10-py3-none-any.whl.metadata\n",
      "  Downloading comtypes-1.4.10-py3-none-any.whl.metadata (7.2 kB)\n",
      "Collecting pypiwin32 (from pyttsx3)\n",
      "  Obtaining dependency information for pypiwin32 from https://files.pythonhosted.org/packages/d0/1b/2f292bbd742e369a100c91faa0483172cd91a1a422a6692055ac920946c5/pypiwin32-223-py3-none-any.whl.metadata\n",
      "  Downloading pypiwin32-223-py3-none-any.whl.metadata (236 bytes)\n",
      "Requirement already satisfied: pywin32 in c:\\users\\gyong\\anaconda3\\lib\\site-packages (from pyttsx3) (305.1)\n",
      "Downloading pyttsx3-2.98-py3-none-any.whl (34 kB)\n",
      "Downloading comtypes-1.4.10-py3-none-any.whl (241 kB)\n",
      "   ---------------------------------------- 0.0/241.5 kB ? eta -:--:--\n",
      "   --------------------------------------- 241.5/241.5 kB 15.4 MB/s eta 0:00:00\n",
      "Downloading pypiwin32-223-py3-none-any.whl (1.7 kB)\n",
      "Installing collected packages: pypiwin32, comtypes, pyttsx3\n",
      "Successfully installed comtypes-1.4.10 pypiwin32-223 pyttsx3-2.98\n"
     ]
    }
   ],
   "source": [
    "!pip install pyttsx3"
   ]
  },
  {
   "cell_type": "code",
   "execution_count": 8,
   "id": "e030affc-92c1-4d11-b26f-dfe45963d6ea",
   "metadata": {},
   "outputs": [],
   "source": [
    "import pyttsx3\n",
    "\n",
    "model = pyttsx3.init()\n",
    "\n",
    "model.say(\"Hi how are you? Thank you for coming to this course.\")\n",
    "\n",
    "model.runAndWait()"
   ]
  },
  {
   "cell_type": "markdown",
   "id": "68c65639-6c4a-48ce-8e9f-1f6fd1ed233f",
   "metadata": {},
   "source": [
    "---\n",
    "\n",
    "### Combine - STT and TTS"
   ]
  },
  {
   "cell_type": "code",
   "execution_count": 3,
   "id": "1a5dc3cb-df26-439d-a719-65f6ccd891ac",
   "metadata": {},
   "outputs": [],
   "source": [
    "import speech_recognition as sr"
   ]
  },
  {
   "cell_type": "code",
   "execution_count": 8,
   "id": "0e43d2cc-004c-4980-9f5a-fea3c8fd14b0",
   "metadata": {},
   "outputs": [],
   "source": [
    "import time # 2024-07-25 [Sam] Introduce a delay of n second."
   ]
  },
  {
   "cell_type": "code",
   "execution_count": 13,
   "id": "ffcdce8a-7673-4c31-ac7a-19bcf9e7e4b6",
   "metadata": {},
   "outputs": [
    {
     "name": "stderr",
     "output_type": "stream",
     "text": [
      "ALSA lib pcm.c:2642:(snd_pcm_open_noupdate) Unknown PCM cards.pcm.rear\n",
      "ALSA lib pcm.c:2642:(snd_pcm_open_noupdate) Unknown PCM cards.pcm.center_lfe\n",
      "ALSA lib pcm.c:2642:(snd_pcm_open_noupdate) Unknown PCM cards.pcm.side\n",
      "ALSA lib pcm_route.c:869:(find_matching_chmap) Found no matching channel map\n",
      "ALSA lib pcm_route.c:869:(find_matching_chmap) Found no matching channel map\n",
      "ALSA lib pcm_route.c:869:(find_matching_chmap) Found no matching channel map\n",
      "ALSA lib pcm_route.c:869:(find_matching_chmap) Found no matching channel map\n",
      "ALSA lib pcm_oss.c:377:(_snd_pcm_oss_open) Unknown field port\n",
      "ALSA lib pcm_oss.c:377:(_snd_pcm_oss_open) Unknown field port\n",
      "ALSA lib pcm_usb_stream.c:486:(_snd_pcm_usb_stream_open) Invalid type for card\n",
      "ALSA lib pcm_usb_stream.c:486:(_snd_pcm_usb_stream_open) Invalid type for card\n",
      "ALSA lib pcm.c:2642:(snd_pcm_open_noupdate) Unknown PCM cards.pcm.rear\n",
      "ALSA lib pcm.c:2642:(snd_pcm_open_noupdate) Unknown PCM cards.pcm.center_lfe\n",
      "ALSA lib pcm.c:2642:(snd_pcm_open_noupdate) Unknown PCM cards.pcm.side\n",
      "ALSA lib pcm_route.c:869:(find_matching_chmap) Found no matching channel map\n",
      "ALSA lib pcm_route.c:869:(find_matching_chmap) Found no matching channel map\n",
      "ALSA lib pcm_route.c:869:(find_matching_chmap) Found no matching channel map\n",
      "ALSA lib pcm_route.c:869:(find_matching_chmap) Found no matching channel map\n",
      "ALSA lib pcm_oss.c:377:(_snd_pcm_oss_open) Unknown field port\n",
      "ALSA lib pcm_oss.c:377:(_snd_pcm_oss_open) Unknown field port\n",
      "ALSA lib pcm_usb_stream.c:486:(_snd_pcm_usb_stream_open) Invalid type for card\n",
      "ALSA lib pcm_usb_stream.c:486:(_snd_pcm_usb_stream_open) Invalid type for card\n"
     ]
    },
    {
     "name": "stdout",
     "output_type": "stream",
     "text": [
      "waiting for you to speak\n",
      "You have just said we hope you enjoy the course AI in accounting and finance\n"
     ]
    }
   ],
   "source": [
    "with sr.Microphone() as source:\n",
    "    sr.Recognizer().adjust_for_ambient_noise(source,duration=2)\n",
    "    print(\"waiting for you to speak\")\n",
    "    model.say(\"Please say something\")\n",
    "    model.runAndWait()\n",
    "    au2 = sr.Recognizer().listen(source)\n",
    "try:\n",
    "    time.sleep(2) # 2024-07-25 [Sam] Introduce a delay of n second.\n",
    "    r2 = sr.Recognizer().recognize_google(au2)\n",
    "    r2 = \"You have just said \" + r2\n",
    "    print(r2)\n",
    "    model.say(r2)\n",
    "    model.runAndWait()\n",
    "except:\n",
    "    print(\"please retry......\")"
   ]
  },
  {
   "cell_type": "code",
   "execution_count": null,
   "id": "a04ee669-9156-4869-a324-a24a11575d8f",
   "metadata": {},
   "outputs": [],
   "source": []
  }
 ],
 "metadata": {
  "kernelspec": {
   "display_name": "Python 3 (ipykernel)",
   "language": "python",
   "name": "python3"
  },
  "language_info": {
   "codemirror_mode": {
    "name": "ipython",
    "version": 3
   },
   "file_extension": ".py",
   "mimetype": "text/x-python",
   "name": "python",
   "nbconvert_exporter": "python",
   "pygments_lexer": "ipython3",
   "version": "3.11.4"
  }
 },
 "nbformat": 4,
 "nbformat_minor": 5
}
